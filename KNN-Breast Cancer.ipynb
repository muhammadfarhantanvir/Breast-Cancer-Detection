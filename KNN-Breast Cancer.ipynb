{
 "cells": [
  {
   "cell_type": "code",
   "execution_count": 1,
   "metadata": {},
   "outputs": [],
   "source": [
    "#includes\n",
    "import numpy as np\n",
    "from collections import Counter\n",
    "import pandas as pd\n",
    "import os\n",
    "import PIL.Image"
   ]
  },
  {
   "cell_type": "code",
   "execution_count": 2,
   "metadata": {},
   "outputs": [],
   "source": [
    "#knn class\n",
    "class KNeighborsClassifieR(object):\n",
    "\n",
    "\tdef __init__(self):\n",
    "\t\tpass\n",
    "    #\"training\" function\n",
    "\tdef fit(self, X, y):\n",
    "\t\tself.X_train = X\n",
    "\t\tself.y_train = y\n",
    "\n",
    "    #predict function, output of this function is lis to\n",
    "\tdef predict(self, X_test, k=5):\n",
    "\t\tdistances = self.compute_distances(self.X_train, X_test)\n",
    "\t\tvote_results = []\n",
    "\t\tfor i in range(len(distances)):\n",
    "\t\t\tvotesOneSample = []\n",
    "\t\t\tfor j in range(k):\n",
    "\t\t\t\tvotesOneSample.append(distances[i][j][1])\n",
    "\t\t\tvote_results.append(Counter(votesOneSample).most_common(1)[0][0])\n",
    "\t\t\n",
    "\t\treturn vote_results\n",
    "    \n",
    "\n",
    "\t#For each sample and every item in test set algorithm is making tuple in distance list\n",
    "\t#this is how list looks =>> distances = [[[distance, class],[distance, class],[distance, class],[distance, class]]]\n",
    "\t#distances and sort\n",
    "\tdef compute_distances(self, X, X_test):\n",
    "\t\tdistances = []\n",
    "\t\tfor i in range(X_test.shape[0]):\n",
    "\t\t\teuclidian_distances = np.zeros(X.shape[0])\n",
    "\t\t\toneSampleList = []\n",
    "\t\t\tfor j in range(len(X)):\n",
    "\t\t\t\teuclidian_distances[j] = np.sqrt(np.sum(np.square(np.array(X_test[i]) - np.array(X[j]))))\n",
    "\t\t\t\toneSampleList.append([euclidian_distances[j], self.y_train[j]])\n",
    "\t\t\t#drugi deo je klasa za element iz train seta za koji smo racunali u ovom krugu\n",
    "\t\t\tdistances.append(sorted(oneSampleList))\n",
    "\t\treturn distances\n",
    "\n",
    "        "
   ]
  },
  {
   "cell_type": "code",
   "execution_count": 3,
   "metadata": {},
   "outputs": [],
   "source": [
    "#to check how much did algo predict right\n",
    "def accuracy(y_tes, y_pred):\n",
    "    correct = 0\n",
    "    for i in range(len(y_pred)):\n",
    "        if(y_tes[i] == y_pred[i]):\n",
    "            correct += 1\n",
    "    return (correct/len(y_tes))*100"
   ]
  },
  {
   "cell_type": "code",
   "execution_count": 4,
   "metadata": {},
   "outputs": [],
   "source": [
    "def run():\n",
    "    # Importing the dataset\n",
    "    dataset = pd.read_csv('breastCancer.csv')\n",
    "    dataset.replace('?', -9999, inplace=True)\n",
    "    dataset = dataset.applymap(np.int64)\n",
    "    X = dataset.iloc[:, 1:-1].values\n",
    "    y = dataset.iloc[:, -1].values\n",
    "    \n",
    "    # Splitting the dataset into the Training set and Test set\n",
    "    from sklearn.model_selection import train_test_split\n",
    "    X_train, X_test, y_train, y_test = train_test_split(X, y, test_size = 0.25, random_state = 0)\n",
    "\n",
    "    # Feature Scaling\n",
    "#     from sklearn.preprocessing import StandardScaler\n",
    "#     sc = StandardScaler()\n",
    "#     X_train = sc.fit_transform(X_train)\n",
    "#     X_test = sc.transform(X_test)\n",
    "    \n",
    "    classifier = KNeighborsClassifieR()\n",
    "    classifier.fit(X_train, y_train)\n",
    "    y_pred = classifier.predict(X_test)\n",
    "    print(\"My KNN accuracy: \",accuracy(y_test, y_pred),'%')\n",
    "    "
   ]
  },
  {
   "cell_type": "code",
   "execution_count": 5,
   "metadata": {},
   "outputs": [
    {
     "name": "stdout",
     "output_type": "stream",
     "text": [
      "My KNN accuracy:  97.71428571428571 %\n"
     ]
    }
   ],
   "source": [
    "run()"
   ]
  },
  {
   "cell_type": "code",
   "execution_count": 6,
   "metadata": {},
   "outputs": [],
   "source": [
    "def skLearnKNN():\n",
    "    # Importing the dataset\n",
    "    dataset = pd.read_csv('breastCancer.csv')\n",
    "    dataset.replace('?', 0, inplace=True)\n",
    "    dataset = dataset.applymap(np.int64)\n",
    "    X = dataset.iloc[:, 1:-1].values\n",
    "    y = dataset.iloc[:, -1].values\n",
    "    \n",
    "    # Splitting the dataset into the Training set and Test set\n",
    "    from sklearn.model_selection import train_test_split\n",
    "    X_train, X_test, y_train, y_test = train_test_split(X, y, test_size = 0.25, random_state = 0)\n",
    "\n",
    "    # Feature Scaling\n",
    "#     from sklearn.preprocessing import StandardScaler\n",
    "#     sc = StandardScaler()\n",
    "#     X_train = sc.fit_transform(X_train)\n",
    "#     X_test = sc.transform(X_test)\n",
    "    \n",
    "    from sklearn.neighbors import KNeighborsClassifier\n",
    "    classifier = KNeighborsClassifier()\n",
    "    classifier.fit(X_train, y_train)\n",
    "    y_pred = classifier.predict(X_test)\n",
    "    print(\"Sklearn accuracy: \", accuracy(y_test, y_pred),'%')"
   ]
  },
  {
   "cell_type": "code",
   "execution_count": 7,
   "metadata": {},
   "outputs": [
    {
     "name": "stdout",
     "output_type": "stream",
     "text": [
      "Sklearn accuracy:  97.71428571428571 %\n"
     ]
    }
   ],
   "source": [
    "skLearnKNN()"
   ]
  },
  {
   "cell_type": "code",
   "execution_count": null,
   "metadata": {},
   "outputs": [],
   "source": []
  }
 ],
 "metadata": {
  "anaconda-cloud": {},
  "kernelspec": {
   "display_name": "Python 3",
   "language": "python",
   "name": "python3"
  },
  "language_info": {
   "codemirror_mode": {
    "name": "ipython",
    "version": 3
   },
   "file_extension": ".py",
   "mimetype": "text/x-python",
   "name": "python",
   "nbconvert_exporter": "python",
   "pygments_lexer": "ipython3",
   "version": "3.7.0"
  }
 },
 "nbformat": 4,
 "nbformat_minor": 1
}
